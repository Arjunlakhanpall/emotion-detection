import cv2
from deepface import DeepFace

img = cv2.imread('../data/sample.jpg')  # Place a sample image in the data folder
result = DeepFace.analyze(img, actions=['emotion'], enforce_detection=False)
print("Detected emotion:", result['dominant_emotion'])
